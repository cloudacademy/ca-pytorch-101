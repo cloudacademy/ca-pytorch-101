{
  "nbformat": 4,
  "nbformat_minor": 0,
  "metadata": {
    "colab": {
      "name": "Pytorch101 - Lecture 05.ipynb",
      "provenance": [],
      "collapsed_sections": []
    },
    "kernelspec": {
      "name": "python3",
      "display_name": "Python 3"
    },
    "language_info": {
      "name": "python"
    }
  },
  "cells": [
    {
      "cell_type": "markdown",
      "metadata": {
        "id": "xEAOni2ykjVe"
      },
      "source": [
        "# How to create and load a Dataset in PyTorch"
      ]
    },
    {
      "cell_type": "code",
      "metadata": {
        "id": "AndoG06k_wgv"
      },
      "source": [
        "import torch"
      ],
      "execution_count": 1,
      "outputs": []
    },
    {
      "cell_type": "code",
      "metadata": {
        "id": "32Sj-l6L_5uv"
      },
      "source": [
        "from torch.utils.data import Dataset\n",
        "\n",
        "class CustomDataset(Dataset):\n",
        "\n",
        "  def __init__(self, X, y):\n",
        "    self.X = X\n",
        "    self.y = y\n",
        "  \n",
        "  def __len__(self):\n",
        "    \"\"\"\n",
        "    Returns the total number of samples available in our dataset\n",
        "    \"\"\"\n",
        "    return len(self.X)\n",
        "\n",
        "  def __getitem__(self, idx):\n",
        "    \"\"\"\n",
        "    Returns a sample of data at a precise idx\n",
        "    \"\"\"\n",
        "    return (self.X[idx], self.y[idx])"
      ],
      "execution_count": 2,
      "outputs": []
    },
    {
      "cell_type": "code",
      "metadata": {
        "id": "yGuj1txPAxyc"
      },
      "source": [
        "from sklearn.datasets import make_classification"
      ],
      "execution_count": 3,
      "outputs": []
    },
    {
      "cell_type": "code",
      "metadata": {
        "id": "mfzNqAgIA5te"
      },
      "source": [
        "?make_classification"
      ],
      "execution_count": 4,
      "outputs": []
    },
    {
      "cell_type": "code",
      "metadata": {
        "id": "snzzqbYqA711"
      },
      "source": [
        "data, target = make_classification(n_samples=1000, n_features=5)"
      ],
      "execution_count": 5,
      "outputs": []
    },
    {
      "cell_type": "code",
      "metadata": {
        "id": "6awakNOOBN25"
      },
      "source": [
        "custom_dataset = CustomDataset(X=data, y=target)"
      ],
      "execution_count": 6,
      "outputs": []
    },
    {
      "cell_type": "code",
      "metadata": {
        "colab": {
          "base_uri": "https://localhost:8080/"
        },
        "id": "eHcU3oeaBSSP",
        "outputId": "7459f0c7-ed40-443e-991e-4b4b1a7db3f9"
      },
      "source": [
        "len(custom_dataset)"
      ],
      "execution_count": 7,
      "outputs": [
        {
          "output_type": "execute_result",
          "data": {
            "text/plain": [
              "1000"
            ]
          },
          "metadata": {},
          "execution_count": 7
        }
      ]
    },
    {
      "cell_type": "code",
      "metadata": {
        "colab": {
          "base_uri": "https://localhost:8080/"
        },
        "id": "wQ7OYWLJBTpz",
        "outputId": "dbfb4302-0a9f-4b30-bf48-b7789daa8cc0"
      },
      "source": [
        "custom_dataset[0]"
      ],
      "execution_count": 8,
      "outputs": [
        {
          "output_type": "execute_result",
          "data": {
            "text/plain": [
              "(array([-1.3488874 ,  0.52062187,  0.97409318, -0.83495675, -0.84824572]), 0)"
            ]
          },
          "metadata": {},
          "execution_count": 8
        }
      ]
    },
    {
      "cell_type": "code",
      "metadata": {
        "colab": {
          "base_uri": "https://localhost:8080/"
        },
        "id": "1nRHiDeQBVzV",
        "outputId": "472d2986-7609-4802-8356-90801a573ae1"
      },
      "source": [
        "data[0]"
      ],
      "execution_count": 9,
      "outputs": [
        {
          "output_type": "execute_result",
          "data": {
            "text/plain": [
              "array([-1.3488874 ,  0.52062187,  0.97409318, -0.83495675, -0.84824572])"
            ]
          },
          "metadata": {},
          "execution_count": 9
        }
      ]
    },
    {
      "cell_type": "code",
      "metadata": {
        "colab": {
          "base_uri": "https://localhost:8080/"
        },
        "id": "4V_TBJNmBXuG",
        "outputId": "9d25d6b2-317b-443f-8269-df65377aee85"
      },
      "source": [
        "custom_dataset[0][0].shape"
      ],
      "execution_count": 10,
      "outputs": [
        {
          "output_type": "execute_result",
          "data": {
            "text/plain": [
              "(5,)"
            ]
          },
          "metadata": {},
          "execution_count": 10
        }
      ]
    },
    {
      "cell_type": "code",
      "metadata": {
        "id": "EiwzPXuqBerQ"
      },
      "source": [
        "from sklearn.datasets import make_multilabel_classification"
      ],
      "execution_count": 11,
      "outputs": []
    },
    {
      "cell_type": "code",
      "metadata": {
        "id": "l2tOS_9LBo-a"
      },
      "source": [
        "?make_multilabel_classification"
      ],
      "execution_count": 12,
      "outputs": []
    },
    {
      "cell_type": "code",
      "metadata": {
        "id": "JNJU7z2WBsii"
      },
      "source": [
        "data, target = make_multilabel_classification(n_samples=1000, n_features=5, n_classes=3)"
      ],
      "execution_count": 13,
      "outputs": []
    },
    {
      "cell_type": "code",
      "metadata": {
        "id": "Q8kuM5rRCAvx"
      },
      "source": [
        "custom_dataset_mlb = CustomDataset(X=data, y=target)"
      ],
      "execution_count": 14,
      "outputs": []
    },
    {
      "cell_type": "code",
      "metadata": {
        "colab": {
          "base_uri": "https://localhost:8080/"
        },
        "id": "RbaZbIxICGyO",
        "outputId": "de9fc7a4-6b9e-4487-a891-2f9c5a06e7fd"
      },
      "source": [
        "custom_dataset_mlb[0]"
      ],
      "execution_count": 15,
      "outputs": [
        {
          "output_type": "execute_result",
          "data": {
            "text/plain": [
              "(array([17.,  8., 13., 12.,  5.]), array([0, 1, 1]))"
            ]
          },
          "metadata": {},
          "execution_count": 15
        }
      ]
    },
    {
      "cell_type": "code",
      "metadata": {
        "colab": {
          "base_uri": "https://localhost:8080/"
        },
        "id": "P-wj7mo0CJEH",
        "outputId": "6a95c265-5383-40ee-8e1a-2ed1460e5c52"
      },
      "source": [
        "custom_dataset_mlb[3]"
      ],
      "execution_count": 16,
      "outputs": [
        {
          "output_type": "execute_result",
          "data": {
            "text/plain": [
              "(array([10.,  8., 16., 12.,  7.]), array([0, 1, 0]))"
            ]
          },
          "metadata": {},
          "execution_count": 16
        }
      ]
    },
    {
      "cell_type": "code",
      "metadata": {
        "id": "sAR0B_e0COYT"
      },
      "source": [
        "from torch.utils.data import DataLoader"
      ],
      "execution_count": 17,
      "outputs": []
    },
    {
      "cell_type": "code",
      "metadata": {
        "id": "GcH4U9STCzqN"
      },
      "source": [
        "data_loader = DataLoader(dataset=custom_dataset, batch_size=8, shuffle=True)"
      ],
      "execution_count": 18,
      "outputs": []
    },
    {
      "cell_type": "code",
      "metadata": {
        "id": "FpxVKINoC9ql"
      },
      "source": [
        "?DataLoader"
      ],
      "execution_count": 19,
      "outputs": []
    },
    {
      "cell_type": "code",
      "metadata": {
        "colab": {
          "base_uri": "https://localhost:8080/"
        },
        "id": "NWkaKE3bC_gI",
        "outputId": "ed8b6f7d-a1d2-4eaa-8923-03f3d97e82cd"
      },
      "source": [
        "custom_dataset[0]"
      ],
      "execution_count": 20,
      "outputs": [
        {
          "output_type": "execute_result",
          "data": {
            "text/plain": [
              "(array([-1.3488874 ,  0.52062187,  0.97409318, -0.83495675, -0.84824572]), 0)"
            ]
          },
          "metadata": {},
          "execution_count": 20
        }
      ]
    },
    {
      "cell_type": "code",
      "metadata": {
        "id": "OModa6BDDNvW"
      },
      "source": [
        "data_iter = iter(data_loader)"
      ],
      "execution_count": 21,
      "outputs": []
    },
    {
      "cell_type": "code",
      "metadata": {
        "colab": {
          "base_uri": "https://localhost:8080/"
        },
        "id": "-2q2cQCQDVsE",
        "outputId": "2f80e214-ee54-441a-d32a-45954ce09815"
      },
      "source": [
        "data_iter"
      ],
      "execution_count": 22,
      "outputs": [
        {
          "output_type": "execute_result",
          "data": {
            "text/plain": [
              "<torch.utils.data.dataloader._SingleProcessDataLoaderIter at 0x7fcdd1c2b9d0>"
            ]
          },
          "metadata": {},
          "execution_count": 22
        }
      ]
    },
    {
      "cell_type": "code",
      "metadata": {
        "id": "0s3GgvjDDWYD"
      },
      "source": [
        "data_02 = data_iter.next()"
      ],
      "execution_count": 23,
      "outputs": []
    },
    {
      "cell_type": "code",
      "metadata": {
        "id": "4GOIUOGdDhOD"
      },
      "source": [
        "features_02, target_02 = data_02"
      ],
      "execution_count": 24,
      "outputs": []
    },
    {
      "cell_type": "code",
      "metadata": {
        "colab": {
          "base_uri": "https://localhost:8080/"
        },
        "id": "0RZqTR9BDh6N",
        "outputId": "a1f625ce-351b-42c2-8452-1fb7b96f8124"
      },
      "source": [
        "features_02"
      ],
      "execution_count": 25,
      "outputs": [
        {
          "output_type": "execute_result",
          "data": {
            "text/plain": [
              "tensor([[-0.5162,  0.6790, -1.7477, -1.1760, -1.0465],\n",
              "        [-1.6182, -0.3973,  0.8785,  0.8225,  0.5200],\n",
              "        [ 0.1541, -0.8604,  0.3391,  1.5250,  1.3019],\n",
              "        [-1.3220, -0.4310,  1.6351,  0.8619,  0.5849],\n",
              "        [-0.7036, -0.5822, -0.4258,  1.0885,  0.8421],\n",
              "        [ 2.6149, -1.6673, -0.5539,  2.7933,  2.6345],\n",
              "        [ 0.1999, -0.0707, -1.2409,  0.1123,  0.1160],\n",
              "        [-2.1790, -0.1865,  2.3925,  0.4855,  0.1758]], dtype=torch.float64)"
            ]
          },
          "metadata": {},
          "execution_count": 25
        }
      ]
    },
    {
      "cell_type": "markdown",
      "metadata": {
        "id": "Exe7Y9eoExzt"
      },
      "source": [
        "**End Lecture 05**"
      ]
    }
  ]
}