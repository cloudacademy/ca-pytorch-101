{
  "nbformat": 4,
  "nbformat_minor": 0,
  "metadata": {
    "colab": {
      "name": "PyTorch101 - Lecture 03.ipynb",
      "provenance": []
    },
    "kernelspec": {
      "name": "python3",
      "display_name": "Python 3"
    },
    "language_info": {
      "name": "python"
    },
    "accelerator": "GPU"
  },
  "cells": [
    {
      "cell_type": "markdown",
      "metadata": {
        "id": "KiXIzIDnNZPs"
      },
      "source": [
        "# Tensors in PyTorch - Part 2"
      ]
    },
    {
      "cell_type": "code",
      "metadata": {
        "id": "2sZekjc7K26U"
      },
      "source": [
        "import torch"
      ],
      "execution_count": 1,
      "outputs": []
    },
    {
      "cell_type": "code",
      "metadata": {
        "id": "2RZcCB4MWnb2"
      },
      "source": [
        "import numpy as np\n",
        "numpy_data = np.random.rand(2,3)"
      ],
      "execution_count": 2,
      "outputs": []
    },
    {
      "cell_type": "code",
      "metadata": {
        "colab": {
          "base_uri": "https://localhost:8080/"
        },
        "id": "xRZ-pjK7X7vm",
        "outputId": "89e0f75e-dffd-40a7-a77a-0e701d1acc4a"
      },
      "source": [
        "numpy_data"
      ],
      "execution_count": 3,
      "outputs": [
        {
          "output_type": "execute_result",
          "data": {
            "text/plain": [
              "array([[0.69180835, 0.98459508, 0.23837632],\n",
              "       [0.52753154, 0.52007687, 0.88052612]])"
            ]
          },
          "metadata": {},
          "execution_count": 3
        }
      ]
    },
    {
      "cell_type": "code",
      "metadata": {
        "id": "olA6I1DDX86P"
      },
      "source": [
        "torch_numpy = torch.from_numpy(numpy_data)"
      ],
      "execution_count": 4,
      "outputs": []
    },
    {
      "cell_type": "code",
      "metadata": {
        "colab": {
          "base_uri": "https://localhost:8080/"
        },
        "id": "-WsAmO0LYEFk",
        "outputId": "9c36bf05-692a-4b2c-e75d-02eb2af85cc3"
      },
      "source": [
        "torch_numpy"
      ],
      "execution_count": 5,
      "outputs": [
        {
          "output_type": "execute_result",
          "data": {
            "text/plain": [
              "tensor([[0.6918, 0.9846, 0.2384],\n",
              "        [0.5275, 0.5201, 0.8805]], dtype=torch.float64)"
            ]
          },
          "metadata": {},
          "execution_count": 5
        }
      ]
    },
    {
      "cell_type": "code",
      "metadata": {
        "id": "gW603eI4YFCS"
      },
      "source": [
        "tensor_numpy_direct = torch.tensor(numpy_data)"
      ],
      "execution_count": 6,
      "outputs": []
    },
    {
      "cell_type": "code",
      "metadata": {
        "colab": {
          "base_uri": "https://localhost:8080/"
        },
        "id": "a4oBbS4YYQxU",
        "outputId": "200c8ec6-4234-4720-d774-111081365321"
      },
      "source": [
        "tensor_numpy_direct"
      ],
      "execution_count": 7,
      "outputs": [
        {
          "output_type": "execute_result",
          "data": {
            "text/plain": [
              "tensor([[0.6918, 0.9846, 0.2384],\n",
              "        [0.5275, 0.5201, 0.8805]], dtype=torch.float64)"
            ]
          },
          "metadata": {},
          "execution_count": 7
        }
      ]
    },
    {
      "cell_type": "code",
      "metadata": {
        "colab": {
          "base_uri": "https://localhost:8080/"
        },
        "id": "ZhPKJcqsYRqF",
        "outputId": "fc9a7dad-7332-402b-b89c-1f5af7976096"
      },
      "source": [
        "tensor_numpy_direct.cpu().numpy()"
      ],
      "execution_count": 8,
      "outputs": [
        {
          "output_type": "execute_result",
          "data": {
            "text/plain": [
              "array([[0.69180835, 0.98459508, 0.23837632],\n",
              "       [0.52753154, 0.52007687, 0.88052612]])"
            ]
          },
          "metadata": {},
          "execution_count": 8
        }
      ]
    },
    {
      "cell_type": "markdown",
      "metadata": {
        "id": "n6ATyv0tYnL2"
      },
      "source": [
        "## Operations between tensors"
      ]
    },
    {
      "cell_type": "code",
      "metadata": {
        "id": "NaVck_T4Ydy_"
      },
      "source": [
        "numpy_data = np.random.rand(2,3)"
      ],
      "execution_count": 9,
      "outputs": []
    },
    {
      "cell_type": "code",
      "metadata": {
        "colab": {
          "base_uri": "https://localhost:8080/"
        },
        "id": "UzZCif-9YwAj",
        "outputId": "697314a7-4555-4c68-b4c6-1b3143bd26a7"
      },
      "source": [
        "numpy_data"
      ],
      "execution_count": 10,
      "outputs": [
        {
          "output_type": "execute_result",
          "data": {
            "text/plain": [
              "array([[0.84756281, 0.98849891, 0.58002658],\n",
              "       [0.5328962 , 0.30875801, 0.6163787 ]])"
            ]
          },
          "metadata": {},
          "execution_count": 10
        }
      ]
    },
    {
      "cell_type": "code",
      "metadata": {
        "id": "l8CdEhZ1YwsZ"
      },
      "source": [
        "my_tns2 = torch.tensor(numpy_data)"
      ],
      "execution_count": 11,
      "outputs": []
    },
    {
      "cell_type": "code",
      "metadata": {
        "colab": {
          "base_uri": "https://localhost:8080/"
        },
        "id": "-yZUwjJpY1B8",
        "outputId": "2257551c-ab13-42f8-edf5-9700dcf41b42"
      },
      "source": [
        "my_tns2"
      ],
      "execution_count": 12,
      "outputs": [
        {
          "output_type": "execute_result",
          "data": {
            "text/plain": [
              "tensor([[0.8476, 0.9885, 0.5800],\n",
              "        [0.5329, 0.3088, 0.6164]], dtype=torch.float64)"
            ]
          },
          "metadata": {},
          "execution_count": 12
        }
      ]
    },
    {
      "cell_type": "code",
      "metadata": {
        "id": "5q7UEXwbY2PV"
      },
      "source": [
        "my_tns1 = torch_numpy"
      ],
      "execution_count": 13,
      "outputs": []
    },
    {
      "cell_type": "code",
      "metadata": {
        "colab": {
          "base_uri": "https://localhost:8080/"
        },
        "id": "4IWeyx4SY6SC",
        "outputId": "4fb8a318-a53d-4a61-d4d4-fe16968db412"
      },
      "source": [
        "my_tns1"
      ],
      "execution_count": 14,
      "outputs": [
        {
          "output_type": "execute_result",
          "data": {
            "text/plain": [
              "tensor([[0.6918, 0.9846, 0.2384],\n",
              "        [0.5275, 0.5201, 0.8805]], dtype=torch.float64)"
            ]
          },
          "metadata": {},
          "execution_count": 14
        }
      ]
    },
    {
      "cell_type": "code",
      "metadata": {
        "colab": {
          "base_uri": "https://localhost:8080/"
        },
        "id": "nl8fuDfaY8KR",
        "outputId": "b8027237-5b41-4cf5-83b6-e2f5bc5672d7"
      },
      "source": [
        "torch.cat([my_tns1, my_tns2], dim=1)"
      ],
      "execution_count": 15,
      "outputs": [
        {
          "output_type": "execute_result",
          "data": {
            "text/plain": [
              "tensor([[0.6918, 0.9846, 0.2384, 0.8476, 0.9885, 0.5800],\n",
              "        [0.5275, 0.5201, 0.8805, 0.5329, 0.3088, 0.6164]], dtype=torch.float64)"
            ]
          },
          "metadata": {},
          "execution_count": 15
        }
      ]
    },
    {
      "cell_type": "code",
      "metadata": {
        "colab": {
          "base_uri": "https://localhost:8080/"
        },
        "id": "tvxEJeSuZHpt",
        "outputId": "7ccebfb3-ef04-4864-92d5-3dc388899099"
      },
      "source": [
        "my_tns2.clip(0.3, 0.7)"
      ],
      "execution_count": 16,
      "outputs": [
        {
          "output_type": "execute_result",
          "data": {
            "text/plain": [
              "tensor([[0.7000, 0.7000, 0.5800],\n",
              "        [0.5329, 0.3088, 0.6164]], dtype=torch.float64)"
            ]
          },
          "metadata": {},
          "execution_count": 16
        }
      ]
    },
    {
      "cell_type": "code",
      "metadata": {
        "colab": {
          "base_uri": "https://localhost:8080/"
        },
        "id": "LAd-Tc7NZfFp",
        "outputId": "63c9adf9-955e-4c92-bb91-609547e15b8b"
      },
      "source": [
        "my_tns1.mul(my_tns2)"
      ],
      "execution_count": 17,
      "outputs": [
        {
          "output_type": "execute_result",
          "data": {
            "text/plain": [
              "tensor([[0.5864, 0.9733, 0.1383],\n",
              "        [0.2811, 0.1606, 0.5427]], dtype=torch.float64)"
            ]
          },
          "metadata": {},
          "execution_count": 17
        }
      ]
    },
    {
      "cell_type": "code",
      "metadata": {
        "colab": {
          "base_uri": "https://localhost:8080/"
        },
        "id": "DQ2OYqpGZr18",
        "outputId": "6e7fed17-90f2-45d9-fcd3-d34923d6b253"
      },
      "source": [
        "my_tns1 * my_tns2"
      ],
      "execution_count": 18,
      "outputs": [
        {
          "output_type": "execute_result",
          "data": {
            "text/plain": [
              "tensor([[0.5864, 0.9733, 0.1383],\n",
              "        [0.2811, 0.1606, 0.5427]], dtype=torch.float64)"
            ]
          },
          "metadata": {},
          "execution_count": 18
        }
      ]
    },
    {
      "cell_type": "code",
      "metadata": {
        "colab": {
          "base_uri": "https://localhost:8080/"
        },
        "id": "RRR5M2uLZ1Js",
        "outputId": "248617f2-6b88-4bc4-b6b7-6a48eea9ab55"
      },
      "source": [
        "my_tns1.matmul(my_tns2.T)"
      ],
      "execution_count": 19,
      "outputs": [
        {
          "output_type": "execute_result",
          "data": {
            "text/plain": [
              "tensor([[1.6979, 0.8196],\n",
              "        [1.4719, 0.9844]], dtype=torch.float64)"
            ]
          },
          "metadata": {},
          "execution_count": 19
        }
      ]
    },
    {
      "cell_type": "code",
      "metadata": {
        "colab": {
          "base_uri": "https://localhost:8080/"
        },
        "id": "V7noFyTbZ7jU",
        "outputId": "000255ce-acc0-4b89-c8cd-ee066ef3dc9c"
      },
      "source": [
        "my_tns1 @ my_tns2.T"
      ],
      "execution_count": 20,
      "outputs": [
        {
          "output_type": "execute_result",
          "data": {
            "text/plain": [
              "tensor([[1.6979, 0.8196],\n",
              "        [1.4719, 0.9844]], dtype=torch.float64)"
            ]
          },
          "metadata": {},
          "execution_count": 20
        }
      ]
    },
    {
      "cell_type": "code",
      "metadata": {
        "id": "eOsSzaBvaFEw"
      },
      "source": [
        "my_sum = my_tns2.sum()"
      ],
      "execution_count": 21,
      "outputs": []
    },
    {
      "cell_type": "code",
      "metadata": {
        "colab": {
          "base_uri": "https://localhost:8080/"
        },
        "id": "8xNJDiASaPV_",
        "outputId": "670b93c1-35d5-471b-813d-88d47b6061e2"
      },
      "source": [
        "my_sum"
      ],
      "execution_count": 22,
      "outputs": [
        {
          "output_type": "execute_result",
          "data": {
            "text/plain": [
              "tensor(3.8741, dtype=torch.float64)"
            ]
          },
          "metadata": {},
          "execution_count": 22
        }
      ]
    },
    {
      "cell_type": "code",
      "metadata": {
        "colab": {
          "base_uri": "https://localhost:8080/"
        },
        "id": "6OlD68BmaOnh",
        "outputId": "76e95677-3875-46e8-addd-a5d0a9922597"
      },
      "source": [
        "my_sum.item()"
      ],
      "execution_count": 23,
      "outputs": [
        {
          "output_type": "execute_result",
          "data": {
            "text/plain": [
              "3.8741212111624868"
            ]
          },
          "metadata": {},
          "execution_count": 23
        }
      ]
    },
    {
      "cell_type": "code",
      "metadata": {
        "colab": {
          "base_uri": "https://localhost:8080/"
        },
        "id": "XBD2epB0aSol",
        "outputId": "aa937a49-be29-4777-c463-b28c229e4af1"
      },
      "source": [
        "type(my_sum.item())"
      ],
      "execution_count": 24,
      "outputs": [
        {
          "output_type": "execute_result",
          "data": {
            "text/plain": [
              "float"
            ]
          },
          "metadata": {},
          "execution_count": 24
        }
      ]
    },
    {
      "cell_type": "code",
      "metadata": {
        "id": "BYLejETebbDC"
      },
      "source": [
        "matrix_A = torch.arange(20, dtype=torch.float32).reshape(5,4)"
      ],
      "execution_count": 25,
      "outputs": []
    },
    {
      "cell_type": "code",
      "metadata": {
        "colab": {
          "base_uri": "https://localhost:8080/"
        },
        "id": "tHsSYLB2cowF",
        "outputId": "7aef1a15-79b0-41fe-ec59-793951db7f22"
      },
      "source": [
        "matrix_A"
      ],
      "execution_count": 26,
      "outputs": [
        {
          "output_type": "execute_result",
          "data": {
            "text/plain": [
              "tensor([[ 0.,  1.,  2.,  3.],\n",
              "        [ 4.,  5.,  6.,  7.],\n",
              "        [ 8.,  9., 10., 11.],\n",
              "        [12., 13., 14., 15.],\n",
              "        [16., 17., 18., 19.]])"
            ]
          },
          "metadata": {},
          "execution_count": 26
        }
      ]
    },
    {
      "cell_type": "code",
      "metadata": {
        "id": "O2TXumitcyaK"
      },
      "source": [
        "matrix_B = matrix_A.clone()"
      ],
      "execution_count": 27,
      "outputs": []
    },
    {
      "cell_type": "code",
      "metadata": {
        "colab": {
          "base_uri": "https://localhost:8080/"
        },
        "id": "lxhO8pVLc4bU",
        "outputId": "764d103d-5725-48a0-d05e-8dbd45c3b421"
      },
      "source": [
        "matrix_B + matrix_A"
      ],
      "execution_count": 28,
      "outputs": [
        {
          "output_type": "execute_result",
          "data": {
            "text/plain": [
              "tensor([[ 0.,  2.,  4.,  6.],\n",
              "        [ 8., 10., 12., 14.],\n",
              "        [16., 18., 20., 22.],\n",
              "        [24., 26., 28., 30.],\n",
              "        [32., 34., 36., 38.]])"
            ]
          },
          "metadata": {},
          "execution_count": 28
        }
      ]
    },
    {
      "cell_type": "code",
      "metadata": {
        "colab": {
          "base_uri": "https://localhost:8080/"
        },
        "id": "6d6JMQ3uc6V-",
        "outputId": "72932655-1cb1-4aff-aa42-5fd7304f897f"
      },
      "source": [
        "matrix_B.mean()"
      ],
      "execution_count": 29,
      "outputs": [
        {
          "output_type": "execute_result",
          "data": {
            "text/plain": [
              "tensor(9.5000)"
            ]
          },
          "metadata": {},
          "execution_count": 29
        }
      ]
    },
    {
      "cell_type": "code",
      "metadata": {
        "colab": {
          "base_uri": "https://localhost:8080/"
        },
        "id": "-uGFZiswc9u3",
        "outputId": "461981e4-3bb1-4c4d-f7ba-c3046bffb580"
      },
      "source": [
        "matrix_B.mean(dim=0)"
      ],
      "execution_count": 30,
      "outputs": [
        {
          "output_type": "execute_result",
          "data": {
            "text/plain": [
              "tensor([ 8.,  9., 10., 11.])"
            ]
          },
          "metadata": {},
          "execution_count": 30
        }
      ]
    },
    {
      "cell_type": "code",
      "metadata": {
        "colab": {
          "base_uri": "https://localhost:8080/"
        },
        "id": "8ToGfsICdRoS",
        "outputId": "d64e8369-992a-4c0c-e50c-9f4b43d7a686"
      },
      "source": [
        "matrix_B.sum(axis=0)/ matrix_B.shape[0]"
      ],
      "execution_count": 31,
      "outputs": [
        {
          "output_type": "execute_result",
          "data": {
            "text/plain": [
              "tensor([ 8.,  9., 10., 11.])"
            ]
          },
          "metadata": {},
          "execution_count": 31
        }
      ]
    },
    {
      "cell_type": "markdown",
      "metadata": {
        "id": "j0IManR_-tfH"
      },
      "source": [
        "**End Lecture 3**"
      ]
    }
  ]
}