{
  "nbformat": 4,
  "nbformat_minor": 0,
  "metadata": {
    "colab": {
      "name": "PyTorch101 - Lecture 02.ipynb",
      "provenance": [],
      "collapsed_sections": []
    },
    "kernelspec": {
      "display_name": "Python 3",
      "name": "python3"
    },
    "language_info": {
      "name": "python"
    },
    "accelerator": "GPU"
  },
  "cells": [
    {
      "cell_type": "markdown",
      "metadata": {
        "id": "0K4V4u8NWNwp"
      },
      "source": [
        "# 1. Tensors in Pytorch"
      ]
    },
    {
      "cell_type": "code",
      "metadata": {
        "id": "oukrR0ksgb5n"
      },
      "source": [
        "import torch"
      ],
      "execution_count": 1,
      "outputs": []
    },
    {
      "cell_type": "markdown",
      "metadata": {
        "id": "UdZGdtF4Stpt"
      },
      "source": [
        "## Tensors in Pytorch"
      ]
    },
    {
      "cell_type": "markdown",
      "metadata": {
        "id": "Qg4PgUT7SyC2"
      },
      "source": [
        "We create some data as list of lists. In particular we create a 2x2 array by creating a list of two lists, each of length two."
      ]
    },
    {
      "cell_type": "code",
      "metadata": {
        "id": "JFnlDPSYorHE"
      },
      "source": [
        "my_data = [[1,2], [3,4]] # 2x2 matrix/array"
      ],
      "execution_count": 2,
      "outputs": []
    },
    {
      "cell_type": "markdown",
      "metadata": {
        "id": "Zdp3Wj1hS8Q0"
      },
      "source": [
        "A Tensor is a multi-dimensional matrix containing elements of a single data type. In our case, we are going to use the 2x2 matrix to create a tensor.\n",
        "A tensor can be constructed from a Python list or sequence using the `torch.tensor()` constructor, as follows:\n"
      ]
    },
    {
      "cell_type": "code",
      "metadata": {
        "colab": {
          "base_uri": "https://localhost:8080/"
        },
        "id": "2E1l6EsvqVT-",
        "outputId": "4db12cc1-f8f5-4663-e8a6-d4372c8bc46d"
      },
      "source": [
        "torch.tensor(my_data)"
      ],
      "execution_count": 3,
      "outputs": [
        {
          "output_type": "execute_result",
          "data": {
            "text/plain": [
              "tensor([[1, 2],\n",
              "        [3, 4]])"
            ]
          },
          "metadata": {},
          "execution_count": 3
        }
      ]
    },
    {
      "cell_type": "code",
      "metadata": {
        "colab": {
          "base_uri": "https://localhost:8080/"
        },
        "id": "Z41ZcsWcULq3",
        "outputId": "17090f74-6648-4e53-fe6d-bb25c6798dc3"
      },
      "source": [
        "my_tensor = torch.tensor(my_data)\n",
        "my_tensor.dtype"
      ],
      "execution_count": 4,
      "outputs": [
        {
          "output_type": "execute_result",
          "data": {
            "text/plain": [
              "torch.int64"
            ]
          },
          "metadata": {},
          "execution_count": 4
        }
      ]
    },
    {
      "cell_type": "code",
      "metadata": {
        "colab": {
          "base_uri": "https://localhost:8080/",
          "height": 37
        },
        "id": "2bX2iVvgVAss",
        "outputId": "09e35c9d-0e94-4a61-b86c-327999f23ab2"
      },
      "source": [
        "my_tensor.type()"
      ],
      "execution_count": 5,
      "outputs": [
        {
          "output_type": "execute_result",
          "data": {
            "application/vnd.google.colaboratory.intrinsic+json": {
              "type": "string"
            },
            "text/plain": [
              "'torch.LongTensor'"
            ]
          },
          "metadata": {},
          "execution_count": 5
        }
      ]
    },
    {
      "cell_type": "code",
      "metadata": {
        "colab": {
          "base_uri": "https://localhost:8080/"
        },
        "id": "F9RMSAVEWdhE",
        "outputId": "f05d8e32-5f45-41a3-c93b-360972255c70"
      },
      "source": [
        "my_tensor.device"
      ],
      "execution_count": 6,
      "outputs": [
        {
          "output_type": "execute_result",
          "data": {
            "text/plain": [
              "device(type='cpu')"
            ]
          },
          "metadata": {},
          "execution_count": 6
        }
      ]
    },
    {
      "cell_type": "markdown",
      "metadata": {
        "id": "2lHoQFUDXXzz"
      },
      "source": [
        "Whenever possible, we can allocate the tensor to GPUs. With Google colab, GPUs are free, so that you can perform faster computations with respect to local machines that do not have GPUs. To allocate a tensor to GPU, apply the `to('cuda')` method to the tensor."
      ]
    },
    {
      "cell_type": "code",
      "metadata": {
        "colab": {
          "base_uri": "https://localhost:8080/"
        },
        "id": "rHai0CX4XWdd",
        "outputId": "b9c6cb7f-30c5-4fe6-9372-211ef9156619"
      },
      "source": [
        "my_tensor.to('cuda')"
      ],
      "execution_count": 7,
      "outputs": [
        {
          "output_type": "execute_result",
          "data": {
            "text/plain": [
              "tensor([[1, 2],\n",
              "        [3, 4]], device='cuda:0')"
            ]
          },
          "metadata": {},
          "execution_count": 7
        }
      ]
    },
    {
      "cell_type": "markdown",
      "metadata": {
        "id": "c85AFOgRY2k5"
      },
      "source": [
        "### Ways of building a tensor\n",
        "There are many ways of building a tensor. For instance, you can build a tensor from scratch with either zeros or ones, as follows: in case you need a 2x2 tensor,  just pass a tuple made of (2,2)"
      ]
    },
    {
      "cell_type": "code",
      "metadata": {
        "colab": {
          "base_uri": "https://localhost:8080/"
        },
        "id": "cqjmsk58qtFJ",
        "outputId": "41c10720-29c5-441b-9871-a1d1d2f8abbd"
      },
      "source": [
        "torch.zeros((2,2))"
      ],
      "execution_count": 8,
      "outputs": [
        {
          "output_type": "execute_result",
          "data": {
            "text/plain": [
              "tensor([[0., 0.],\n",
              "        [0., 0.]])"
            ]
          },
          "metadata": {},
          "execution_count": 8
        }
      ]
    },
    {
      "cell_type": "markdown",
      "metadata": {
        "id": "2ZZGaIBgZy96"
      },
      "source": [
        "or with ones"
      ]
    },
    {
      "cell_type": "code",
      "metadata": {
        "colab": {
          "base_uri": "https://localhost:8080/"
        },
        "id": "E5e-1pe0qXBC",
        "outputId": "d3170043-3a8c-4460-dddb-1e238dfcee60"
      },
      "source": [
        "torch.ones((2,2)) # 2x2 matrix/array"
      ],
      "execution_count": 9,
      "outputs": [
        {
          "output_type": "execute_result",
          "data": {
            "text/plain": [
              "tensor([[1., 1.],\n",
              "        [1., 1.]])"
            ]
          },
          "metadata": {},
          "execution_count": 9
        }
      ]
    },
    {
      "cell_type": "markdown",
      "metadata": {
        "id": "Ot2wWEZoZ6mJ"
      },
      "source": [
        "Let us consider the following tensor"
      ]
    },
    {
      "cell_type": "code",
      "metadata": {
        "id": "-O10eernZ_Iz"
      },
      "source": [
        "new_tensor = torch.ones((2,2))"
      ],
      "execution_count": 10,
      "outputs": []
    },
    {
      "cell_type": "code",
      "metadata": {
        "colab": {
          "base_uri": "https://localhost:8080/"
        },
        "id": "R_4BELGAaBGp",
        "outputId": "ad3467bf-5a58-47b9-ae23-2f8c4f0cc303"
      },
      "source": [
        "new_tensor.dtype"
      ],
      "execution_count": 11,
      "outputs": [
        {
          "output_type": "execute_result",
          "data": {
            "text/plain": [
              "torch.float32"
            ]
          },
          "metadata": {},
          "execution_count": 11
        }
      ]
    },
    {
      "cell_type": "code",
      "metadata": {
        "colab": {
          "base_uri": "https://localhost:8080/",
          "height": 37
        },
        "id": "AMdksbctaFx8",
        "outputId": "bb2f5ebd-4836-4ea1-eea4-ac39ade322f2"
      },
      "source": [
        "new_tensor.type()"
      ],
      "execution_count": 12,
      "outputs": [
        {
          "output_type": "execute_result",
          "data": {
            "application/vnd.google.colaboratory.intrinsic+json": {
              "type": "string"
            },
            "text/plain": [
              "'torch.FloatTensor'"
            ]
          },
          "metadata": {},
          "execution_count": 12
        }
      ]
    },
    {
      "cell_type": "code",
      "metadata": {
        "id": "hfD2H5lNrEiO"
      },
      "source": [
        "updated_new_tensor = new_tensor.new_tensor(my_data)"
      ],
      "execution_count": 13,
      "outputs": []
    },
    {
      "cell_type": "code",
      "metadata": {
        "colab": {
          "base_uri": "https://localhost:8080/"
        },
        "id": "B_eQwq4zaZtb",
        "outputId": "59907cc1-f97a-495e-b75d-5df925782940"
      },
      "source": [
        "updated_new_tensor"
      ],
      "execution_count": 14,
      "outputs": [
        {
          "output_type": "execute_result",
          "data": {
            "text/plain": [
              "tensor([[1., 2.],\n",
              "        [3., 4.]])"
            ]
          },
          "metadata": {},
          "execution_count": 14
        }
      ]
    },
    {
      "cell_type": "markdown",
      "metadata": {
        "id": "7X1Jyal5abcD"
      },
      "source": [
        "we see that now the tensor has been updated in its values. Why should i use the `new_tensor` method? Tensors are array/matrix that contains data placed on either cpu or gpus memory, and have some properties. Sometimes you do not want to change this properties, but you just want to hereditate such properties while updating the data. The `new_tensor` allows to reach this goal with a simple line of code."
      ]
    },
    {
      "cell_type": "code",
      "metadata": {
        "colab": {
          "base_uri": "https://localhost:8080/"
        },
        "id": "KZ0YjRLqajEa",
        "outputId": "11d9e353-f165-42af-cde4-6465318a6039"
      },
      "source": [
        "updated_new_tensor.dtype"
      ],
      "execution_count": 15,
      "outputs": [
        {
          "output_type": "execute_result",
          "data": {
            "text/plain": [
              "torch.float32"
            ]
          },
          "metadata": {},
          "execution_count": 15
        }
      ]
    },
    {
      "cell_type": "markdown",
      "metadata": {
        "id": "E5ewC6XrbRlM"
      },
      "source": [
        "We can even specify the device"
      ]
    },
    {
      "cell_type": "code",
      "metadata": {
        "id": "QfWr9AkesJ4H"
      },
      "source": [
        "another_tensor = torch.zeros((2,2), dtype=torch.int8, device='cuda') "
      ],
      "execution_count": 16,
      "outputs": []
    },
    {
      "cell_type": "code",
      "metadata": {
        "colab": {
          "base_uri": "https://localhost:8080/"
        },
        "id": "QVmUMyRUukbE",
        "outputId": "459f8607-8522-41d3-8650-1d6ef4ad7db1"
      },
      "source": [
        "another_tensor.device"
      ],
      "execution_count": 17,
      "outputs": [
        {
          "output_type": "execute_result",
          "data": {
            "text/plain": [
              "device(type='cuda', index=0)"
            ]
          },
          "metadata": {},
          "execution_count": 17
        }
      ]
    },
    {
      "cell_type": "markdown",
      "metadata": {
        "id": "Yn4gxK27eQFQ"
      },
      "source": [
        "The nice thing of the `new_tensor` is that you can even create a new tensor starting from the one you just created, but with different data: To create a tensor with similar type but different size as another tensor, use tensor.new_* creation ops."
      ]
    },
    {
      "cell_type": "code",
      "metadata": {
        "colab": {
          "base_uri": "https://localhost:8080/"
        },
        "id": "-1YV3mi2efCc",
        "outputId": "f1758ccb-edcb-4a90-8a9d-553958d5a549"
      },
      "source": [
        "new_data = [[1,2], [3,4], [5,6]]\n",
        "another_tensor.new_tensor(new_data)"
      ],
      "execution_count": 18,
      "outputs": [
        {
          "output_type": "execute_result",
          "data": {
            "text/plain": [
              "tensor([[1, 2],\n",
              "        [3, 4],\n",
              "        [5, 6]], device='cuda:0', dtype=torch.int8)"
            ]
          },
          "metadata": {},
          "execution_count": 18
        }
      ]
    },
    {
      "cell_type": "markdown",
      "metadata": {
        "id": "9knl64LIbY6a"
      },
      "source": [
        "Finally, we can create a tensor with random values using the `torch.rand()` method, as follows:"
      ]
    },
    {
      "cell_type": "code",
      "metadata": {
        "id": "36oIpCK4sjf_"
      },
      "source": [
        "# this creates a 2x3 matrix of floats between 0 and 1\n",
        "shape = (2,3,)\n",
        "my_tensor = torch.rand(shape)"
      ],
      "execution_count": 19,
      "outputs": []
    },
    {
      "cell_type": "markdown",
      "metadata": {
        "id": "bCzSgJ3UdppV"
      },
      "source": [
        "We can create directly from another tensor using the class of `*_like` as follows: the new tensor retains the properties (shape, datatype) of the argument tensor, unless explicitly overridden.\n",
        "\n",
        "To create a tensor with the same size (and similar types) as another tensor, use torch.*_like tensor creation ops (see Creation Ops)."
      ]
    },
    {
      "cell_type": "code",
      "metadata": {
        "colab": {
          "base_uri": "https://localhost:8080/"
        },
        "id": "Qccl8nW2dqBI",
        "outputId": "aa091941-f399-4806-c8d3-b49c84d42d13"
      },
      "source": [
        "x_rand = torch.rand_like(my_tensor, dtype=torch.float) # overrides the datatype of x_data\n",
        "print(f\"Random Tensor: \\n {x_rand} \\n\")"
      ],
      "execution_count": 20,
      "outputs": [
        {
          "output_type": "stream",
          "text": [
            "Random Tensor: \n",
            " tensor([[0.9254, 0.1945, 0.5678],\n",
            "        [0.7718, 0.3628, 0.3090]]) \n",
            "\n"
          ],
          "name": "stdout"
        }
      ]
    },
    {
      "cell_type": "markdown",
      "metadata": {
        "id": "da6ba08snqw4"
      },
      "source": [
        "**End Lecture 2**"
      ]
    }
  ]
}