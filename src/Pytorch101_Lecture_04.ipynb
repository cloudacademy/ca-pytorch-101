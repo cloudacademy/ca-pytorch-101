{
  "nbformat": 4,
  "nbformat_minor": 0,
  "metadata": {
    "colab": {
      "name": "Pytorch101 - Lecture 04.ipynb",
      "provenance": [],
      "collapsed_sections": []
    },
    "kernelspec": {
      "name": "python3",
      "display_name": "Python 3"
    },
    "language_info": {
      "name": "python"
    }
  },
  "cells": [
    {
      "cell_type": "markdown",
      "metadata": {
        "id": "gBxrafXhkuAJ"
      },
      "source": [
        "# The Autograd Module"
      ]
    },
    {
      "cell_type": "code",
      "metadata": {
        "id": "lunSeHhTssCU"
      },
      "source": [
        "import torch"
      ],
      "execution_count": 18,
      "outputs": []
    },
    {
      "cell_type": "code",
      "metadata": {
        "id": "0a6-JcCY5RT6"
      },
      "source": [
        "x = torch.tensor([-1.2365, 1.8245, -1.0701, 0.0869, -0.0376])"
      ],
      "execution_count": 19,
      "outputs": []
    },
    {
      "cell_type": "code",
      "metadata": {
        "id": "Lh0jmEJE5ggq"
      },
      "source": [
        "loss =  x**2 -5\n"
      ],
      "execution_count": 20,
      "outputs": []
    },
    {
      "cell_type": "code",
      "metadata": {
        "colab": {
          "base_uri": "https://localhost:8080/"
        },
        "id": "eJ3nj4HG5kBV",
        "outputId": "863db77c-d20e-4f62-a8bf-ea31f0d4e8ef"
      },
      "source": [
        "loss"
      ],
      "execution_count": 21,
      "outputs": [
        {
          "output_type": "execute_result",
          "data": {
            "text/plain": [
              "tensor([-3.4711, -1.6712, -3.8549, -4.9924, -4.9986])"
            ]
          },
          "metadata": {},
          "execution_count": 21
        }
      ]
    },
    {
      "cell_type": "code",
      "metadata": {
        "id": "D-DQ0Z7A5kpD"
      },
      "source": [
        "x = torch.tensor([-1.2365, 1.8245, -1.0701, 0.0869, -0.0376], requires_grad=True)"
      ],
      "execution_count": 22,
      "outputs": []
    },
    {
      "cell_type": "code",
      "metadata": {
        "id": "y-3c1Vnu55D2"
      },
      "source": [
        "loss = x **2 - 5"
      ],
      "execution_count": 23,
      "outputs": []
    },
    {
      "cell_type": "code",
      "metadata": {
        "colab": {
          "base_uri": "https://localhost:8080/"
        },
        "id": "X9eNXp3c6V_m",
        "outputId": "1e59b447-20dd-4e03-b3e0-04be9d274dff"
      },
      "source": [
        "loss"
      ],
      "execution_count": 24,
      "outputs": [
        {
          "output_type": "execute_result",
          "data": {
            "text/plain": [
              "tensor([-3.4711, -1.6712, -3.8549, -4.9924, -4.9986], grad_fn=<SubBackward0>)"
            ]
          },
          "metadata": {},
          "execution_count": 24
        }
      ]
    },
    {
      "cell_type": "code",
      "metadata": {
        "colab": {
          "base_uri": "https://localhost:8080/"
        },
        "id": "IkSq48nT6XIp",
        "outputId": "297665b0-f63c-4c09-c093-3fca36fcffff"
      },
      "source": [
        "loss.grad_fn"
      ],
      "execution_count": 25,
      "outputs": [
        {
          "output_type": "execute_result",
          "data": {
            "text/plain": [
              "<SubBackward0 at 0x7fccc600b5d0>"
            ]
          },
          "metadata": {},
          "execution_count": 25
        }
      ]
    },
    {
      "cell_type": "code",
      "metadata": {
        "id": "0bFBRmHT6fMJ"
      },
      "source": [
        "loss.backward(gradient=torch.ones(5))"
      ],
      "execution_count": 26,
      "outputs": []
    },
    {
      "cell_type": "code",
      "metadata": {
        "colab": {
          "base_uri": "https://localhost:8080/"
        },
        "id": "aQlnd58X6sG0",
        "outputId": "b2ef7e6c-6953-4f91-fc8b-176638df96c9"
      },
      "source": [
        "x.grad"
      ],
      "execution_count": 27,
      "outputs": [
        {
          "output_type": "execute_result",
          "data": {
            "text/plain": [
              "tensor([-2.4730,  3.6490, -2.1402,  0.1738, -0.0752])"
            ]
          },
          "metadata": {},
          "execution_count": 27
        }
      ]
    },
    {
      "cell_type": "markdown",
      "metadata": {
        "id": "xO4Jbkh28MFb"
      },
      "source": [
        "$$\\frac{\\partial y}{\\partial x} = 2x$$"
      ]
    },
    {
      "cell_type": "code",
      "metadata": {
        "colab": {
          "base_uri": "https://localhost:8080/"
        },
        "id": "o6lki0gG79cw",
        "outputId": "3dd554e6-606b-46dc-cc11-b76edb8e0a27"
      },
      "source": [
        "2 * x"
      ],
      "execution_count": 28,
      "outputs": [
        {
          "output_type": "execute_result",
          "data": {
            "text/plain": [
              "tensor([-2.4730,  3.6490, -2.1402,  0.1738, -0.0752], grad_fn=<MulBackward0>)"
            ]
          },
          "metadata": {},
          "execution_count": 28
        }
      ]
    },
    {
      "cell_type": "code",
      "metadata": {
        "id": "K_cvWHV18RZv"
      },
      "source": [
        "a = torch.rand(2,2, requires_grad=True)"
      ],
      "execution_count": 29,
      "outputs": []
    },
    {
      "cell_type": "code",
      "metadata": {
        "colab": {
          "base_uri": "https://localhost:8080/"
        },
        "id": "4jPiXgwi8yhG",
        "outputId": "35ad6dac-29c9-442f-81e1-5c136fb1dede"
      },
      "source": [
        "a.requires_grad"
      ],
      "execution_count": 30,
      "outputs": [
        {
          "output_type": "execute_result",
          "data": {
            "text/plain": [
              "True"
            ]
          },
          "metadata": {},
          "execution_count": 30
        }
      ]
    },
    {
      "cell_type": "code",
      "metadata": {
        "id": "eVWSoGGL80WJ"
      },
      "source": [
        "b = a.detach()"
      ],
      "execution_count": 31,
      "outputs": []
    },
    {
      "cell_type": "code",
      "metadata": {
        "colab": {
          "base_uri": "https://localhost:8080/"
        },
        "id": "u5vxO7YA84zj",
        "outputId": "4d4dd93c-7b4c-473e-ec0e-99079a7a60d1"
      },
      "source": [
        "b.requires_grad"
      ],
      "execution_count": 32,
      "outputs": [
        {
          "output_type": "execute_result",
          "data": {
            "text/plain": [
              "False"
            ]
          },
          "metadata": {},
          "execution_count": 32
        }
      ]
    },
    {
      "cell_type": "code",
      "metadata": {
        "id": "qnGzRYw686S5"
      },
      "source": [
        "c = torch.rand(2,2, requires_grad=True)"
      ],
      "execution_count": 33,
      "outputs": []
    },
    {
      "cell_type": "code",
      "metadata": {
        "colab": {
          "base_uri": "https://localhost:8080/"
        },
        "id": "XQUoIKMT9Exh",
        "outputId": "b8856229-b04c-4232-99f0-38c8ee3c2658"
      },
      "source": [
        "with torch.no_grad():\n",
        "  loss = c **2\n",
        "  print(loss.requires_grad)"
      ],
      "execution_count": 34,
      "outputs": [
        {
          "output_type": "stream",
          "text": [
            "False\n"
          ],
          "name": "stdout"
        }
      ]
    },
    {
      "cell_type": "markdown",
      "metadata": {
        "id": "1vnGWsVz-8-0"
      },
      "source": [
        "**End Lecture 04**"
      ]
    }
  ]
}